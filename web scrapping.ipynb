{
 "cells": [
  {
   "cell_type": "code",
   "execution_count": 3,
   "id": "eddc5255-dc0d-48e2-a022-d08526d57bac",
   "metadata": {},
   "outputs": [],
   "source": [
    "import  requests\n",
    "from bs4 import BeautifulSoup as bs #to beautify the data\n",
    "from urllib.request import urlopen as uReq #automatically open url\n",
    "import logging"
   ]
  },
  {
   "cell_type": "code",
   "execution_count": 74,
   "id": "a3dd7718-7d18-4b93-b3da-6fb4bafc3043",
   "metadata": {},
   "outputs": [],
   "source": [
    "flipkart_url= 'https://www.flipkart.com/search?q=' + 'iphone13'"
   ]
  },
  {
   "cell_type": "code",
   "execution_count": 75,
   "id": "851ebcea-3b5d-4cbe-8f58-19fed5a9ee5b",
   "metadata": {},
   "outputs": [
    {
     "data": {
      "text/plain": [
       "'https://www.flipkart.com/search?q=iphone13'"
      ]
     },
     "execution_count": 75,
     "metadata": {},
     "output_type": "execute_result"
    }
   ],
   "source": [
    "flipkart_url"
   ]
  },
  {
   "cell_type": "code",
   "execution_count": 76,
   "id": "042e62f5-7399-4e67-9f48-1c2a9ebe4d1e",
   "metadata": {},
   "outputs": [],
   "source": [
    "urlclient = uReq (flipkart_url)"
   ]
  },
  {
   "cell_type": "code",
   "execution_count": 77,
   "id": "49ba4025-56bd-4dc6-9905-237e94cb1ac9",
   "metadata": {},
   "outputs": [
    {
     "data": {
      "text/plain": [
       "<http.client.HTTPResponse at 0x7f1e61983e50>"
      ]
     },
     "execution_count": 77,
     "metadata": {},
     "output_type": "execute_result"
    }
   ],
   "source": [
    "urlclient"
   ]
  },
  {
   "cell_type": "code",
   "execution_count": 18,
   "id": "4d507248-7859-4fdf-ab9f-a31adf9e2c78",
   "metadata": {},
   "outputs": [],
   "source": [
    "amazon_url= 'https://www.amazon.com/s?k=' + 'samsung'"
   ]
  },
  {
   "cell_type": "code",
   "execution_count": 19,
   "id": "de4b7f06-1f69-4ec7-afa5-c21bda3cc2a1",
   "metadata": {},
   "outputs": [
    {
     "data": {
      "text/plain": [
       "'https://www.amazon.com/s?k=samsung'"
      ]
     },
     "execution_count": 19,
     "metadata": {},
     "output_type": "execute_result"
    }
   ],
   "source": [
    "amazon_url"
   ]
  },
  {
   "cell_type": "code",
   "execution_count": 20,
   "id": "0ee2f1dc-46f2-47b0-9721-2f73eae99e91",
   "metadata": {},
   "outputs": [
    {
     "ename": "HTTPError",
     "evalue": "HTTP Error 503: Service Unavailable",
     "output_type": "error",
     "traceback": [
      "\u001b[0;31m---------------------------------------------------------------------------\u001b[0m",
      "\u001b[0;31mHTTPError\u001b[0m                                 Traceback (most recent call last)",
      "Cell \u001b[0;32mIn[20], line 1\u001b[0m\n\u001b[0;32m----> 1\u001b[0m urlclient1\u001b[38;5;241m=\u001b[39m \u001b[43muReq\u001b[49m\u001b[43m(\u001b[49m\u001b[43mamazon_url\u001b[49m\u001b[43m)\u001b[49m\n",
      "File \u001b[0;32m/opt/conda/lib/python3.10/urllib/request.py:216\u001b[0m, in \u001b[0;36murlopen\u001b[0;34m(url, data, timeout, cafile, capath, cadefault, context)\u001b[0m\n\u001b[1;32m    214\u001b[0m \u001b[38;5;28;01melse\u001b[39;00m:\n\u001b[1;32m    215\u001b[0m     opener \u001b[38;5;241m=\u001b[39m _opener\n\u001b[0;32m--> 216\u001b[0m \u001b[38;5;28;01mreturn\u001b[39;00m \u001b[43mopener\u001b[49m\u001b[38;5;241;43m.\u001b[39;49m\u001b[43mopen\u001b[49m\u001b[43m(\u001b[49m\u001b[43murl\u001b[49m\u001b[43m,\u001b[49m\u001b[43m \u001b[49m\u001b[43mdata\u001b[49m\u001b[43m,\u001b[49m\u001b[43m \u001b[49m\u001b[43mtimeout\u001b[49m\u001b[43m)\u001b[49m\n",
      "File \u001b[0;32m/opt/conda/lib/python3.10/urllib/request.py:525\u001b[0m, in \u001b[0;36mOpenerDirector.open\u001b[0;34m(self, fullurl, data, timeout)\u001b[0m\n\u001b[1;32m    523\u001b[0m \u001b[38;5;28;01mfor\u001b[39;00m processor \u001b[38;5;129;01min\u001b[39;00m \u001b[38;5;28mself\u001b[39m\u001b[38;5;241m.\u001b[39mprocess_response\u001b[38;5;241m.\u001b[39mget(protocol, []):\n\u001b[1;32m    524\u001b[0m     meth \u001b[38;5;241m=\u001b[39m \u001b[38;5;28mgetattr\u001b[39m(processor, meth_name)\n\u001b[0;32m--> 525\u001b[0m     response \u001b[38;5;241m=\u001b[39m \u001b[43mmeth\u001b[49m\u001b[43m(\u001b[49m\u001b[43mreq\u001b[49m\u001b[43m,\u001b[49m\u001b[43m \u001b[49m\u001b[43mresponse\u001b[49m\u001b[43m)\u001b[49m\n\u001b[1;32m    527\u001b[0m \u001b[38;5;28;01mreturn\u001b[39;00m response\n",
      "File \u001b[0;32m/opt/conda/lib/python3.10/urllib/request.py:634\u001b[0m, in \u001b[0;36mHTTPErrorProcessor.http_response\u001b[0;34m(self, request, response)\u001b[0m\n\u001b[1;32m    631\u001b[0m \u001b[38;5;66;03m# According to RFC 2616, \"2xx\" code indicates that the client's\u001b[39;00m\n\u001b[1;32m    632\u001b[0m \u001b[38;5;66;03m# request was successfully received, understood, and accepted.\u001b[39;00m\n\u001b[1;32m    633\u001b[0m \u001b[38;5;28;01mif\u001b[39;00m \u001b[38;5;129;01mnot\u001b[39;00m (\u001b[38;5;241m200\u001b[39m \u001b[38;5;241m<\u001b[39m\u001b[38;5;241m=\u001b[39m code \u001b[38;5;241m<\u001b[39m \u001b[38;5;241m300\u001b[39m):\n\u001b[0;32m--> 634\u001b[0m     response \u001b[38;5;241m=\u001b[39m \u001b[38;5;28;43mself\u001b[39;49m\u001b[38;5;241;43m.\u001b[39;49m\u001b[43mparent\u001b[49m\u001b[38;5;241;43m.\u001b[39;49m\u001b[43merror\u001b[49m\u001b[43m(\u001b[49m\n\u001b[1;32m    635\u001b[0m \u001b[43m        \u001b[49m\u001b[38;5;124;43m'\u001b[39;49m\u001b[38;5;124;43mhttp\u001b[39;49m\u001b[38;5;124;43m'\u001b[39;49m\u001b[43m,\u001b[49m\u001b[43m \u001b[49m\u001b[43mrequest\u001b[49m\u001b[43m,\u001b[49m\u001b[43m \u001b[49m\u001b[43mresponse\u001b[49m\u001b[43m,\u001b[49m\u001b[43m \u001b[49m\u001b[43mcode\u001b[49m\u001b[43m,\u001b[49m\u001b[43m \u001b[49m\u001b[43mmsg\u001b[49m\u001b[43m,\u001b[49m\u001b[43m \u001b[49m\u001b[43mhdrs\u001b[49m\u001b[43m)\u001b[49m\n\u001b[1;32m    637\u001b[0m \u001b[38;5;28;01mreturn\u001b[39;00m response\n",
      "File \u001b[0;32m/opt/conda/lib/python3.10/urllib/request.py:563\u001b[0m, in \u001b[0;36mOpenerDirector.error\u001b[0;34m(self, proto, *args)\u001b[0m\n\u001b[1;32m    561\u001b[0m \u001b[38;5;28;01mif\u001b[39;00m http_err:\n\u001b[1;32m    562\u001b[0m     args \u001b[38;5;241m=\u001b[39m (\u001b[38;5;28mdict\u001b[39m, \u001b[38;5;124m'\u001b[39m\u001b[38;5;124mdefault\u001b[39m\u001b[38;5;124m'\u001b[39m, \u001b[38;5;124m'\u001b[39m\u001b[38;5;124mhttp_error_default\u001b[39m\u001b[38;5;124m'\u001b[39m) \u001b[38;5;241m+\u001b[39m orig_args\n\u001b[0;32m--> 563\u001b[0m     \u001b[38;5;28;01mreturn\u001b[39;00m \u001b[38;5;28;43mself\u001b[39;49m\u001b[38;5;241;43m.\u001b[39;49m\u001b[43m_call_chain\u001b[49m\u001b[43m(\u001b[49m\u001b[38;5;241;43m*\u001b[39;49m\u001b[43margs\u001b[49m\u001b[43m)\u001b[49m\n",
      "File \u001b[0;32m/opt/conda/lib/python3.10/urllib/request.py:496\u001b[0m, in \u001b[0;36mOpenerDirector._call_chain\u001b[0;34m(self, chain, kind, meth_name, *args)\u001b[0m\n\u001b[1;32m    494\u001b[0m \u001b[38;5;28;01mfor\u001b[39;00m handler \u001b[38;5;129;01min\u001b[39;00m handlers:\n\u001b[1;32m    495\u001b[0m     func \u001b[38;5;241m=\u001b[39m \u001b[38;5;28mgetattr\u001b[39m(handler, meth_name)\n\u001b[0;32m--> 496\u001b[0m     result \u001b[38;5;241m=\u001b[39m \u001b[43mfunc\u001b[49m\u001b[43m(\u001b[49m\u001b[38;5;241;43m*\u001b[39;49m\u001b[43margs\u001b[49m\u001b[43m)\u001b[49m\n\u001b[1;32m    497\u001b[0m     \u001b[38;5;28;01mif\u001b[39;00m result \u001b[38;5;129;01mis\u001b[39;00m \u001b[38;5;129;01mnot\u001b[39;00m \u001b[38;5;28;01mNone\u001b[39;00m:\n\u001b[1;32m    498\u001b[0m         \u001b[38;5;28;01mreturn\u001b[39;00m result\n",
      "File \u001b[0;32m/opt/conda/lib/python3.10/urllib/request.py:643\u001b[0m, in \u001b[0;36mHTTPDefaultErrorHandler.http_error_default\u001b[0;34m(self, req, fp, code, msg, hdrs)\u001b[0m\n\u001b[1;32m    642\u001b[0m \u001b[38;5;28;01mdef\u001b[39;00m \u001b[38;5;21mhttp_error_default\u001b[39m(\u001b[38;5;28mself\u001b[39m, req, fp, code, msg, hdrs):\n\u001b[0;32m--> 643\u001b[0m     \u001b[38;5;28;01mraise\u001b[39;00m HTTPError(req\u001b[38;5;241m.\u001b[39mfull_url, code, msg, hdrs, fp)\n",
      "\u001b[0;31mHTTPError\u001b[0m: HTTP Error 503: Service Unavailable"
     ]
    }
   ],
   "source": [
    "urlclient1= uReq(amazon_url)"
   ]
  },
  {
   "cell_type": "code",
   "execution_count": 39,
   "id": "b13890e9-a890-4f1c-b3f9-09399d86dd9a",
   "metadata": {},
   "outputs": [
    {
     "data": {
      "text/plain": [
       "<http.client.HTTPResponse at 0x7f1e785678e0>"
      ]
     },
     "execution_count": 39,
     "metadata": {},
     "output_type": "execute_result"
    }
   ],
   "source": [
    "urlclient #open the url"
   ]
  },
  {
   "cell_type": "code",
   "execution_count": 78,
   "id": "47d119c9-1295-4be8-bc9b-26d622242bb3",
   "metadata": {},
   "outputs": [],
   "source": [
    "#read the url\n",
    "flipkart_page=urlclient.read() #data is dumped here"
   ]
  },
  {
   "cell_type": "code",
   "execution_count": 79,
   "id": "0051aa55-389a-41d1-9972-c336c08ffa87",
   "metadata": {},
   "outputs": [],
   "source": [
    "flipkart_html= bs(flipkart_page, 'html.parser') #html.parser it is an html page so use html parser to beautify and align the data\n",
    "#human format mai data read karne ke liye beautiful soap use kare"
   ]
  },
  {
   "cell_type": "code",
   "execution_count": 80,
   "id": "183b905b-0154-4f4f-b190-bb4cd8f8b786",
   "metadata": {},
   "outputs": [
    {
     "data": {
      "text/plain": [
       "'https://www.flipkart.com/apple-iphone-13-starlight-128-gb/p/itmc9604f122ae7f?pid=MOBG6VF5ADKHKXFX&lid=LSTMOBG6VF5ADKHKXFXQGX7PK&marketplace=FLIPKART&q=iphone13&store=tyy%2F4io&spotlightTagId=BestsellerId_tyy%2F4io&srno=s_1_1&otracker=search&fm=organic&iid=2d2608d9-f769-45b6-a261-0e6d6abf6f1d.MOBG6VF5ADKHKXFX.SEARCH&ppt=sp&ppn=sp&ssid=lulj8t36gg0000001693057446893&qH=7d4afaedfc628b80'"
      ]
     },
     "execution_count": 80,
     "metadata": {},
     "output_type": "execute_result"
    }
   ],
   "source": [
    "#press f12 in flipkart pagev---> href\n",
    "'https://www.flipkart.com/'+'apple-iphone-13-starlight-128-gb/p/itmc9604f122ae7f?pid=MOBG6VF5ADKHKXFX&lid=LSTMOBG6VF5ADKHKXFXQGX7PK&marketplace=FLIPKART&q=iphone13&store=tyy%2F4io&spotlightTagId=BestsellerId_tyy%2F4io&srno=s_1_1&otracker=search&fm=organic&iid=2d2608d9-f769-45b6-a261-0e6d6abf6f1d.MOBG6VF5ADKHKXFX.SEARCH&ppt=sp&ppn=sp&ssid=lulj8t36gg0000001693057446893&qH=7d4afaedfc628b80'"
   ]
  },
  {
   "cell_type": "code",
   "execution_count": null,
   "id": "dd5c805b-3482-4a20-afca-cc9cb8857f88",
   "metadata": {},
   "outputs": [],
   "source": []
  },
  {
   "cell_type": "code",
   "execution_count": 81,
   "id": "bdb8cfc8-ed23-47cf-9f63-aeb2fcf56abd",
   "metadata": {},
   "outputs": [],
   "source": [
    "bigbox=flipkart_html.findAll(\"div\" , {'class' :\"_1AtVbE col-12-12\" }) #'findall' find any tag --> 'div'  ke andar 'class' "
   ]
  },
  {
   "cell_type": "code",
   "execution_count": 82,
   "id": "0d8473f2-8eff-4e86-8b28-5953ae325b4e",
   "metadata": {},
   "outputs": [
    {
     "data": {
      "text/plain": [
       "31"
      ]
     },
     "execution_count": 82,
     "metadata": {},
     "output_type": "execute_result"
    }
   ],
   "source": [
    "len(bigbox) #31 product related to iphone 13 is find here"
   ]
  },
  {
   "cell_type": "code",
   "execution_count": 103,
   "id": "01901212-735c-43cb-a6b1-383b7f16846a",
   "metadata": {},
   "outputs": [],
   "source": [
    "productlink = \"https://www.flipkart.com\"+bigbox[3].div.div.div.a['href']\n",
    "#iss bigbox ke andar product available hai, product ka link available hai --> par bigbox ke div ke andar div ke andar div ke andar  href hai"
   ]
  },
  {
   "cell_type": "code",
   "execution_count": 100,
   "id": "1bcd5e3d-1e1c-4eef-9b9c-606b49ca3836",
   "metadata": {},
   "outputs": [],
   "source": [
    "#the data 0,1,2 is not valid so we delete from 'bigbox'\n",
    "del bigbox[0:3]"
   ]
  },
  {
   "cell_type": "code",
   "execution_count": 107,
   "id": "8bc4b346-b6a6-47c0-b912-f8b7d207e2bb",
   "metadata": {},
   "outputs": [],
   "source": [
    "product_req=requests.get(productlink) #get data from product link\n"
   ]
  },
  {
   "cell_type": "code",
   "execution_count": 110,
   "id": "4f9235f0-775f-4f61-a195-d3f5792ee1c9",
   "metadata": {},
   "outputs": [],
   "source": [
    "product_html=bs(product_req.text, 'html.parser') #product specific page ka saara text mil jayega"
   ]
  },
  {
   "cell_type": "code",
   "execution_count": 112,
   "id": "3174a58b-6a75-4cf2-a193-7c361563bd6b",
   "metadata": {},
   "outputs": [],
   "source": [
    "comment_box=product_html.findAll(\"div\",{\"class\" : \"_16PBlm\"})"
   ]
  },
  {
   "cell_type": "code",
   "execution_count": 113,
   "id": "fc997450-bbe6-4534-8d68-185a51e3f0d7",
   "metadata": {},
   "outputs": [
    {
     "data": {
      "text/plain": [
       "11"
      ]
     },
     "execution_count": 113,
     "metadata": {},
     "output_type": "execute_result"
    }
   ],
   "source": [
    "len(comment_box) #11 comments"
   ]
  },
  {
   "cell_type": "code",
   "execution_count": 118,
   "id": "d8b2d0e1-f90c-45e9-bb16-8297360c0cf4",
   "metadata": {},
   "outputs": [
    {
     "data": {
      "text/plain": [
       "[<p class=\"_2sc7ZR _2V5EHH\">Ashish  Kumar</p>]"
      ]
     },
     "execution_count": 118,
     "metadata": {},
     "output_type": "execute_result"
    }
   ],
   "source": [
    "comment_box[0].div.div.find_all ('p', {'class' : '_2sc7ZR _2V5EHH'}) #list of zero at last to extract data"
   ]
  },
  {
   "cell_type": "code",
   "execution_count": 124,
   "id": "66cef8c7-12f4-42ed-bc14-2eef43a4db49",
   "metadata": {},
   "outputs": [
    {
     "name": "stdout",
     "output_type": "stream",
     "text": [
      "Ashish  Kumar\n",
      "Flipkart Customer\n",
      "Shivang Palyal\n",
      "Flipkart Customer\n",
      "Badri Bishal  Pratihari \n",
      "Peris Kumar Bhagat\n",
      "Sachin Saini\n",
      "Srinivash Bhoi\n",
      "Rishi Raj\n",
      "Prasenjit Bar\n"
     ]
    },
    {
     "ename": "AttributeError",
     "evalue": "'NoneType' object has no attribute 'div'",
     "output_type": "error",
     "traceback": [
      "\u001b[0;31m---------------------------------------------------------------------------\u001b[0m",
      "\u001b[0;31mAttributeError\u001b[0m                            Traceback (most recent call last)",
      "Cell \u001b[0;32mIn[124], line 2\u001b[0m\n\u001b[1;32m      1\u001b[0m \u001b[38;5;28;01mfor\u001b[39;00m i \u001b[38;5;129;01min\u001b[39;00m comment_box:\n\u001b[0;32m----> 2\u001b[0m     \u001b[38;5;28mprint\u001b[39m(\u001b[43mi\u001b[49m\u001b[38;5;241;43m.\u001b[39;49m\u001b[43mdiv\u001b[49m\u001b[38;5;241;43m.\u001b[39;49m\u001b[43mdiv\u001b[49m\u001b[38;5;241m.\u001b[39mfind_all (\u001b[38;5;124m'\u001b[39m\u001b[38;5;124mp\u001b[39m\u001b[38;5;124m'\u001b[39m, {\u001b[38;5;124m'\u001b[39m\u001b[38;5;124mclass\u001b[39m\u001b[38;5;124m'\u001b[39m : \u001b[38;5;124m'\u001b[39m\u001b[38;5;124m_2sc7ZR _2V5EHH\u001b[39m\u001b[38;5;124m'\u001b[39m})[\u001b[38;5;241m0\u001b[39m]\u001b[38;5;241m.\u001b[39mtext)\n",
      "\u001b[0;31mAttributeError\u001b[0m: 'NoneType' object has no attribute 'div'"
     ]
    }
   ],
   "source": [
    "\n",
    "for i in comment_box:\n",
    "    print(i.div.div.find_all ('p', {'class' : '_2sc7ZR _2V5EHH'})[0].text)"
   ]
  },
  {
   "cell_type": "code",
   "execution_count": 127,
   "id": "21fcd9de-d2d2-49aa-8fca-58966101f350",
   "metadata": {},
   "outputs": [
    {
     "data": {
      "text/plain": [
       "'5'"
      ]
     },
     "execution_count": 127,
     "metadata": {},
     "output_type": "execute_result"
    }
   ],
   "source": [
    "comment_box[0].div.div.div.div.text"
   ]
  },
  {
   "cell_type": "code",
   "execution_count": 129,
   "id": "b431c9da-e789-4858-bbe9-f40e58fc853e",
   "metadata": {},
   "outputs": [
    {
     "name": "stdout",
     "output_type": "stream",
     "text": [
      "5\n",
      "5\n",
      "5\n",
      "5\n",
      "5\n",
      "5\n",
      "4\n",
      "5\n",
      "5\n",
      "4\n"
     ]
    },
    {
     "ename": "AttributeError",
     "evalue": "'NoneType' object has no attribute 'div'",
     "output_type": "error",
     "traceback": [
      "\u001b[0;31m---------------------------------------------------------------------------\u001b[0m",
      "\u001b[0;31mAttributeError\u001b[0m                            Traceback (most recent call last)",
      "Cell \u001b[0;32mIn[129], line 2\u001b[0m\n\u001b[1;32m      1\u001b[0m \u001b[38;5;28;01mfor\u001b[39;00m i \u001b[38;5;129;01min\u001b[39;00m comment_box:\n\u001b[0;32m----> 2\u001b[0m     \u001b[38;5;28mprint\u001b[39m (\u001b[43mi\u001b[49m\u001b[38;5;241;43m.\u001b[39;49m\u001b[43mdiv\u001b[49m\u001b[38;5;241;43m.\u001b[39;49m\u001b[43mdiv\u001b[49m\u001b[38;5;241m.\u001b[39mdiv\u001b[38;5;241m.\u001b[39mdiv\u001b[38;5;241m.\u001b[39mtext)\n",
      "\u001b[0;31mAttributeError\u001b[0m: 'NoneType' object has no attribute 'div'"
     ]
    }
   ],
   "source": [
    "for i in comment_box: #extract rating\n",
    "    print (i.div.div.div.div.text)"
   ]
  },
  {
   "cell_type": "code",
   "execution_count": 134,
   "id": "ba009b65-1782-4499-8ff3-3e14d00d72e2",
   "metadata": {},
   "outputs": [
    {
     "name": "stdout",
     "output_type": "stream",
     "text": [
      "Wonderful\n",
      "Terrific\n",
      "Classy product\n",
      "Awesome\n",
      "Perfect product!\n",
      "Mind-blowing purchase\n",
      "Really Nice\n",
      "Perfect product!\n",
      "Great product\n",
      "Nice product\n"
     ]
    },
    {
     "ename": "AttributeError",
     "evalue": "'NoneType' object has no attribute 'div'",
     "output_type": "error",
     "traceback": [
      "\u001b[0;31m---------------------------------------------------------------------------\u001b[0m",
      "\u001b[0;31mAttributeError\u001b[0m                            Traceback (most recent call last)",
      "Cell \u001b[0;32mIn[134], line 2\u001b[0m\n\u001b[1;32m      1\u001b[0m \u001b[38;5;28;01mfor\u001b[39;00m i \u001b[38;5;129;01min\u001b[39;00m comment_box:\n\u001b[0;32m----> 2\u001b[0m     \u001b[38;5;28mprint\u001b[39m(\u001b[43mi\u001b[49m\u001b[38;5;241;43m.\u001b[39;49m\u001b[43mdiv\u001b[49m\u001b[38;5;241;43m.\u001b[39;49m\u001b[43mdiv\u001b[49m\u001b[38;5;241m.\u001b[39mdiv\u001b[38;5;241m.\u001b[39mp\u001b[38;5;241m.\u001b[39mtext)\n",
      "\u001b[0;31mAttributeError\u001b[0m: 'NoneType' object has no attribute 'div'"
     ]
    }
   ],
   "source": [
    "for i in comment_box: #title\n",
    "    print(i.div.div.div.p.text)"
   ]
  },
  {
   "cell_type": "code",
   "execution_count": 136,
   "id": "cea3c08f-9f43-46b5-826b-8fadb3a59afb",
   "metadata": {},
   "outputs": [
    {
     "data": {
      "text/plain": [
       "[<div><div class=\"\">Just amazing</div><span class=\"_1H-bmy\"><span>READ MORE</span></span></div>,\n",
       " <div class=\"\">Just amazing</div>,\n",
       " <div></div>]"
      ]
     },
     "execution_count": 136,
     "metadata": {},
     "output_type": "execute_result"
    }
   ],
   "source": [
    "#actual comment\n",
    "comment_box[0].div.div.find_all('div', {'class' : ''})"
   ]
  },
  {
   "cell_type": "code",
   "execution_count": 139,
   "id": "6b31c6d7-4a26-4f8f-8688-b42e9848b94a",
   "metadata": {},
   "outputs": [
    {
     "data": {
      "text/plain": [
       "'Just amazing'"
      ]
     },
     "execution_count": 139,
     "metadata": {},
     "output_type": "execute_result"
    }
   ],
   "source": [
    "#actual comment\n",
    "comment_box[0].div.div.find_all('div', {'class' : ''})[0].div.text"
   ]
  },
  {
   "cell_type": "code",
   "execution_count": 140,
   "id": "2ed0c4e8-aea1-4ce1-b52c-7279a941c067",
   "metadata": {},
   "outputs": [
    {
     "name": "stdout",
     "output_type": "stream",
     "text": [
      "Just amazing\n",
      "Happy to have this phone\n",
      "This is awosome .. camera is best . Here some photos i m sharing with you guys ..\n",
      "Best of best\n",
      "Love this phone..... 😍\n",
      "Great performance 🥰\n",
      "My first I phone ..from a long time android user… apple camera is way ahead  ,.. interface is better than android….overall premium features and feeling. .;but prices way aboveboard\n",
      "Pros-rear Camera is awesome.double speaker sound equal loud and base is superb display superb. Design also good.Battery back up superb.Cons-front camera is good not awesomeAfter switching from android you feel one minus point is the display notch .\n",
      "Beast phone …. Camera is exceptionally best\n",
      "Best phone for day to day use and photography/videography.\n"
     ]
    },
    {
     "ename": "AttributeError",
     "evalue": "'NoneType' object has no attribute 'div'",
     "output_type": "error",
     "traceback": [
      "\u001b[0;31m---------------------------------------------------------------------------\u001b[0m",
      "\u001b[0;31mAttributeError\u001b[0m                            Traceback (most recent call last)",
      "Cell \u001b[0;32mIn[140], line 2\u001b[0m\n\u001b[1;32m      1\u001b[0m \u001b[38;5;28;01mfor\u001b[39;00m i \u001b[38;5;129;01min\u001b[39;00m  comment_box:\n\u001b[0;32m----> 2\u001b[0m     \u001b[38;5;28mprint\u001b[39m(\u001b[43mi\u001b[49m\u001b[38;5;241;43m.\u001b[39;49m\u001b[43mdiv\u001b[49m\u001b[38;5;241;43m.\u001b[39;49m\u001b[43mdiv\u001b[49m\u001b[38;5;241m.\u001b[39mfind_all(\u001b[38;5;124m'\u001b[39m\u001b[38;5;124mdiv\u001b[39m\u001b[38;5;124m'\u001b[39m, {\u001b[38;5;124m'\u001b[39m\u001b[38;5;124mclass\u001b[39m\u001b[38;5;124m'\u001b[39m : \u001b[38;5;124m'\u001b[39m\u001b[38;5;124m'\u001b[39m})[\u001b[38;5;241m0\u001b[39m]\u001b[38;5;241m.\u001b[39mdiv\u001b[38;5;241m.\u001b[39mtext)\n",
      "\u001b[0;31mAttributeError\u001b[0m: 'NoneType' object has no attribute 'div'"
     ]
    }
   ],
   "source": [
    "for i in  comment_box:\n",
    "    print(i.div.div.find_all('div', {'class' : ''})[0].div.text)\n",
    "    "
   ]
  },
  {
   "cell_type": "code",
   "execution_count": 102,
   "id": "04ad3c79-8769-409e-8341-55ee2b188a78",
   "metadata": {},
   "outputs": [
    {
     "name": "stdout",
     "output_type": "stream",
     "text": [
      "https://www.flipkart.com/apple-iphone-13-starlight-128-gb/p/itmc9604f122ae7f?pid=MOBG6VF5ADKHKXFX&lid=LSTMOBG6VF5ADKHKXFXQGX7PK&marketplace=FLIPKART&q=iphone13&store=tyy%2F4io&spotlightTagId=BestsellerId_tyy%2F4io&srno=s_1_1&otracker=search&fm=organic&iid=0af442c6-9134-41e8-b240-f554855ca2e7.MOBG6VF5ADKHKXFX.SEARCH&ppt=None&ppn=None&ssid=u18tiii2cw0000001693058691052&qH=7d4afaedfc628b80\n",
      "https://www.flipkart.com/apple-iphone-13-green-128-gb/p/itm18a55937b2607?pid=MOBGC9VGSU9DWGJZ&lid=LSTMOBGC9VGSU9DWGJZTOZYKQ&marketplace=FLIPKART&q=iphone13&store=tyy%2F4io&srno=s_1_2&otracker=search&fm=organic&iid=0af442c6-9134-41e8-b240-f554855ca2e7.MOBGC9VGSU9DWGJZ.SEARCH&ppt=None&ppn=None&ssid=u18tiii2cw0000001693058691052&qH=7d4afaedfc628b80\n",
      "https://www.flipkart.com/apple-iphone-13-blue-128-gb/p/itm6c601e0a58b3c?pid=MOBG6VF5SMXPNQHG&lid=LSTMOBG6VF5SMXPNQHGMMXJDB&marketplace=FLIPKART&q=iphone13&store=tyy%2F4io&srno=s_1_3&otracker=search&fm=organic&iid=0af442c6-9134-41e8-b240-f554855ca2e7.MOBG6VF5SMXPNQHG.SEARCH&ppt=None&ppn=None&ssid=u18tiii2cw0000001693058691052&qH=7d4afaedfc628b80\n",
      "https://www.flipkart.com/apple-iphone-13-midnight-128-gb/p/itmca361aab1c5b0?pid=MOBG6VF5Q82T3XRS&lid=LSTMOBG6VF5Q82T3XRSOXJLM9&marketplace=FLIPKART&q=iphone13&store=tyy%2F4io&spotlightTagId=FkPickId_tyy%2F4io&srno=s_1_4&otracker=search&fm=organic&iid=0af442c6-9134-41e8-b240-f554855ca2e7.MOBG6VF5Q82T3XRS.SEARCH&ppt=None&ppn=None&ssid=u18tiii2cw0000001693058691052&qH=7d4afaedfc628b80\n",
      "https://www.flipkart.com/apple-iphone-13-pink-128-gb/p/itm6e30c6ee045d2?pid=MOBG6VF5GXVFTQ5Y&lid=LSTMOBG6VF5GXVFTQ5YSGQY4O&marketplace=FLIPKART&q=iphone13&store=tyy%2F4io&srno=s_1_5&otracker=search&fm=organic&iid=0af442c6-9134-41e8-b240-f554855ca2e7.MOBG6VF5GXVFTQ5Y.SEARCH&ppt=None&ppn=None&ssid=u18tiii2cw0000001693058691052&qH=7d4afaedfc628b80\n",
      "https://www.flipkart.com/apple-iphone-13-product-red-128-gb/p/itm99b5658d148b0?pid=MOBG6VF59ZFEPEBX&lid=LSTMOBG6VF59ZFEPEBXH3IWCE&marketplace=FLIPKART&q=iphone13&store=tyy%2F4io&srno=s_1_6&otracker=search&fm=organic&iid=0af442c6-9134-41e8-b240-f554855ca2e7.MOBG6VF59ZFEPEBX.SEARCH&ppt=None&ppn=None&ssid=u18tiii2cw0000001693058691052&qH=7d4afaedfc628b80\n",
      "https://www.flipkart.com/apple-iphone-13-blue-256-gb/p/itmd68a015aa1e39?pid=MOBG6VF566ZTUVFR&lid=LSTMOBG6VF566ZTUVFR2RQLVU&marketplace=FLIPKART&q=iphone13&store=tyy%2F4io&srno=s_1_7&otracker=search&fm=organic&iid=0af442c6-9134-41e8-b240-f554855ca2e7.MOBG6VF566ZTUVFR.SEARCH&ppt=None&ppn=None&ssid=u18tiii2cw0000001693058691052&qH=7d4afaedfc628b80\n",
      "https://www.flipkart.com/apple-iphone-13-starlight-256-gb/p/itm37b8de852304e?pid=MOBG6VF5NFYJ8KQX&lid=LSTMOBG6VF5NFYJ8KQX7FK2GA&marketplace=FLIPKART&q=iphone13&store=tyy%2F4io&srno=s_1_8&otracker=search&fm=organic&iid=0af442c6-9134-41e8-b240-f554855ca2e7.MOBG6VF5NFYJ8KQX.SEARCH&ppt=None&ppn=None&ssid=u18tiii2cw0000001693058691052&qH=7d4afaedfc628b80\n",
      "https://www.flipkart.com/apple-iphone-13-product-red-512-gb/p/itmf3f96f20817ae?pid=MOBG6VF56S584SAP&lid=LSTMOBG6VF56S584SAPGZ8HCU&marketplace=FLIPKART&q=iphone13&store=tyy%2F4io&srno=s_1_9&otracker=search&fm=organic&iid=0af442c6-9134-41e8-b240-f554855ca2e7.MOBG6VF56S584SAP.SEARCH&ppt=None&ppn=None&ssid=u18tiii2cw0000001693058691052&qH=7d4afaedfc628b80\n",
      "https://www.flipkart.com/apple-iphone-13-midnight-256-gb/p/itmfa27e6497b641?pid=MOBG6VF5AJGQ6HHE&lid=LSTMOBG6VF5AJGQ6HHEIDDQMK&marketplace=FLIPKART&q=iphone13&store=tyy%2F4io&srno=s_1_10&otracker=search&fm=organic&iid=0af442c6-9134-41e8-b240-f554855ca2e7.MOBG6VF5AJGQ6HHE.SEARCH&ppt=None&ppn=None&ssid=u18tiii2cw0000001693058691052&qH=7d4afaedfc628b80\n",
      "https://www.flipkart.com/apple-iphone-13-pink-256-gb/p/itmc5ee8ec6cd737?pid=MOBG6VF5XAMZ2FKX&lid=LSTMOBG6VF5XAMZ2FKXWXB6MV&marketplace=FLIPKART&q=iphone13&store=tyy%2F4io&srno=s_1_11&otracker=search&fm=organic&iid=0af442c6-9134-41e8-b240-f554855ca2e7.MOBG6VF5XAMZ2FKX.SEARCH&ppt=None&ppn=None&ssid=u18tiii2cw0000001693058691052&qH=7d4afaedfc628b80\n",
      "https://www.flipkart.com/apple-iphone-13-green-256-gb/p/itm14914e5e84473?pid=MOBGC9VGPXQNTXDW&lid=LSTMOBGC9VGPXQNTXDWMOPMCI&marketplace=FLIPKART&q=iphone13&store=tyy%2F4io&srno=s_1_12&otracker=search&fm=organic&iid=0af442c6-9134-41e8-b240-f554855ca2e7.MOBGC9VGPXQNTXDW.SEARCH&ppt=None&ppn=None&ssid=u18tiii2cw0000001693058691052&qH=7d4afaedfc628b80\n",
      "https://www.flipkart.com/apple-iphone-13-pink-512-gb/p/itm3762edcc79946?pid=MOBG6VF5AS6QUQWX&lid=LSTMOBG6VF5AS6QUQWXXKELIA&marketplace=FLIPKART&q=iphone13&store=tyy%2F4io&srno=s_1_13&otracker=search&fm=organic&iid=0af442c6-9134-41e8-b240-f554855ca2e7.MOBG6VF5AS6QUQWX.SEARCH&ppt=None&ppn=None&ssid=u18tiii2cw0000001693058691052&qH=7d4afaedfc628b80\n",
      "https://www.flipkart.com/apple-iphone-13-green-512-gb/p/itmdd397c451bdae?pid=MOBGC9VGEZQUXGW5&lid=LSTMOBGC9VGEZQUXGW5GINKRW&marketplace=FLIPKART&q=iphone13&store=tyy%2F4io&srno=s_1_14&otracker=search&fm=organic&iid=0af442c6-9134-41e8-b240-f554855ca2e7.MOBGC9VGEZQUXGW5.SEARCH&ppt=None&ppn=None&ssid=u18tiii2cw0000001693058691052&qH=7d4afaedfc628b80\n",
      "https://www.flipkart.com/apple-iphone-13-product-red-256-gb/p/itme239bd6bf6934?pid=MOBG6VF5DYJ3GBZH&lid=LSTMOBG6VF5DYJ3GBZHPVIDIF&marketplace=FLIPKART&q=iphone13&store=tyy%2F4io&srno=s_1_15&otracker=search&fm=organic&iid=0af442c6-9134-41e8-b240-f554855ca2e7.MOBG6VF5DYJ3GBZH.SEARCH&ppt=None&ppn=None&ssid=u18tiii2cw0000001693058691052&qH=7d4afaedfc628b80\n",
      "https://www.flipkart.com/apple-iphone-13-blue-512-gb/p/itma26798ee418a6?pid=MOBG6VF5CBZ6EPF2&lid=LSTMOBG6VF5CBZ6EPF2I3GRC9&marketplace=FLIPKART&q=iphone13&store=tyy%2F4io&srno=s_1_16&otracker=search&fm=organic&iid=0af442c6-9134-41e8-b240-f554855ca2e7.MOBG6VF5CBZ6EPF2.SEARCH&ppt=None&ppn=None&ssid=u18tiii2cw0000001693058691052&qH=7d4afaedfc628b80\n",
      "https://www.flipkart.com/apple-iphone-13-starlight-512-gb/p/itm1d663e7a79e95?pid=MOBG6VF5G3NJDHJ2&lid=LSTMOBG6VF5G3NJDHJ2CAM2ON&marketplace=FLIPKART&q=iphone13&store=tyy%2F4io&srno=s_1_17&otracker=search&fm=organic&iid=0af442c6-9134-41e8-b240-f554855ca2e7.MOBG6VF5G3NJDHJ2.SEARCH&ppt=None&ppn=None&ssid=u18tiii2cw0000001693058691052&qH=7d4afaedfc628b80\n",
      "https://www.flipkart.com/apple-iphone-13-midnight-512-gb/p/itm7d60d2e9ffd7c?pid=MOBG6VF5GXHZMYMH&lid=LSTMOBG6VF5GXHZMYMHL6HIY4&marketplace=FLIPKART&q=iphone13&store=tyy%2F4io&srno=s_1_18&otracker=search&fm=organic&iid=0af442c6-9134-41e8-b240-f554855ca2e7.MOBG6VF5GXHZMYMH.SEARCH&ppt=None&ppn=None&ssid=u18tiii2cw0000001693058691052&qH=7d4afaedfc628b80\n",
      "https://www.flipkart.com/apple-iphone-13-pro-gold-512-gb/p/itm837d2a477d50f?pid=MOBG6VF5F5CYZHTV&lid=LSTMOBG6VF5F5CYZHTVXBQYBO&marketplace=FLIPKART&q=iphone13&store=tyy%2F4io&srno=s_1_19&otracker=search&fm=organic&iid=0af442c6-9134-41e8-b240-f554855ca2e7.MOBG6VF5F5CYZHTV.SEARCH&ppt=None&ppn=None&ssid=u18tiii2cw0000001693058691052&qH=7d4afaedfc628b80\n",
      "https://www.flipkart.com/apple-iphone-13-mini-product-red-512-gb/p/itm585815ebac94c?pid=MOBG6VF556QXTVKD&lid=LSTMOBG6VF556QXTVKDTZIF55&marketplace=FLIPKART&q=iphone13&store=tyy%2F4io&srno=s_1_20&otracker=search&fm=organic&iid=0af442c6-9134-41e8-b240-f554855ca2e7.MOBG6VF556QXTVKD.SEARCH&ppt=None&ppn=None&ssid=u18tiii2cw0000001693058691052&qH=7d4afaedfc628b80\n",
      "https://www.flipkart.com/apple-iphone-13-pro-max-graphite-1-tb/p/itmdbb23fa63b708?pid=MOBG6VF56FGKA8SG&lid=LSTMOBG6VF56FGKA8SGJPIJV6&marketplace=FLIPKART&q=iphone13&store=tyy%2F4io&srno=s_1_21&otracker=search&fm=organic&iid=0af442c6-9134-41e8-b240-f554855ca2e7.MOBG6VF56FGKA8SG.SEARCH&ppt=None&ppn=None&ssid=u18tiii2cw0000001693058691052&qH=7d4afaedfc628b80\n",
      "https://www.flipkart.com/apple-iphone-13-pro-max-alpine-green-256-gb/p/itmd50ee574a9335?pid=MOBGC9VGH3SQEVZE&lid=LSTMOBGC9VGH3SQEVZEOQVWJR&marketplace=FLIPKART&q=iphone13&store=tyy%2F4io&srno=s_1_22&otracker=search&fm=organic&iid=0af442c6-9134-41e8-b240-f554855ca2e7.MOBGC9VGH3SQEVZE.SEARCH&ppt=None&ppn=None&ssid=u18tiii2cw0000001693058691052&qH=7d4afaedfc628b80\n",
      "https://www.flipkart.com/apple-iphone-13-pro-max-gold-512-gb/p/itmd6a2716ec3249?pid=MOBG6VF5DKQRJHJS&lid=LSTMOBG6VF5DKQRJHJSCPRIPU&marketplace=FLIPKART&q=iphone13&store=tyy%2F4io&srno=s_1_23&otracker=search&fm=organic&iid=0af442c6-9134-41e8-b240-f554855ca2e7.MOBG6VF5DKQRJHJS.SEARCH&ppt=None&ppn=None&ssid=u18tiii2cw0000001693058691052&qH=7d4afaedfc628b80\n",
      "https://www.flipkart.com/apple-iphone-13-pro-max-silver-256-gb/p/itmff24c14e68d14?pid=MOBG6VF5WA2CZWF2&lid=LSTMOBG6VF5WA2CZWF2OXEYVP&marketplace=FLIPKART&q=iphone13&store=tyy%2F4io&srno=s_1_24&otracker=search&fm=organic&iid=0af442c6-9134-41e8-b240-f554855ca2e7.MOBG6VF5WA2CZWF2.SEARCH&ppt=None&ppn=None&ssid=u18tiii2cw0000001693058691052&qH=7d4afaedfc628b80\n"
     ]
    },
    {
     "ename": "AttributeError",
     "evalue": "'NoneType' object has no attribute 'a'",
     "output_type": "error",
     "traceback": [
      "\u001b[0;31m---------------------------------------------------------------------------\u001b[0m",
      "\u001b[0;31mAttributeError\u001b[0m                            Traceback (most recent call last)",
      "Cell \u001b[0;32mIn[102], line 2\u001b[0m\n\u001b[1;32m      1\u001b[0m \u001b[38;5;28;01mfor\u001b[39;00m i \u001b[38;5;129;01min\u001b[39;00m bigbox:\n\u001b[0;32m----> 2\u001b[0m     \u001b[38;5;28mprint\u001b[39m(\u001b[38;5;124m'\u001b[39m\u001b[38;5;124mhttps://www.flipkart.com\u001b[39m\u001b[38;5;124m'\u001b[39m\u001b[38;5;241m+\u001b[39m\u001b[43mi\u001b[49m\u001b[38;5;241;43m.\u001b[39;49m\u001b[43mdiv\u001b[49m\u001b[38;5;241;43m.\u001b[39;49m\u001b[43mdiv\u001b[49m\u001b[38;5;241;43m.\u001b[39;49m\u001b[43mdiv\u001b[49m\u001b[38;5;241;43m.\u001b[39;49m\u001b[43ma\u001b[49m[\u001b[38;5;124m'\u001b[39m\u001b[38;5;124mhref\u001b[39m\u001b[38;5;124m'\u001b[39m])\n",
      "\u001b[0;31mAttributeError\u001b[0m: 'NoneType' object has no attribute 'a'"
     ]
    }
   ],
   "source": [
    "for i in bigbox:\n",
    "    print('https://www.flipkart.com'+i.div.div.div.a['href'])"
   ]
  },
  {
   "cell_type": "code",
   "execution_count": null,
   "id": "6eb68ebc-745d-428b-a160-7ef45ee478f7",
   "metadata": {},
   "outputs": [],
   "source": []
  }
 ],
 "metadata": {
  "kernelspec": {
   "display_name": "Python 3 (ipykernel)",
   "language": "python",
   "name": "python3"
  },
  "language_info": {
   "codemirror_mode": {
    "name": "ipython",
    "version": 3
   },
   "file_extension": ".py",
   "mimetype": "text/x-python",
   "name": "python",
   "nbconvert_exporter": "python",
   "pygments_lexer": "ipython3",
   "version": "3.10.8"
  }
 },
 "nbformat": 4,
 "nbformat_minor": 5
}
